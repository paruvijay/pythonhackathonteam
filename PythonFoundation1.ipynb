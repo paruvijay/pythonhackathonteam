{
 "cells": [
  {
   "cell_type": "markdown",
   "id": "4d84bb4a-4146-40d5-b54e-f15b8cc4ec4f",
   "metadata": {
    "id": "4d84bb4a-4146-40d5-b54e-f15b8cc4ec4f"
   },
   "source": [
    "# Basic Commands"
   ]
  },
  {
   "cell_type": "code",
   "execution_count": 1,
   "id": "34b9b9f5-df03-4391-9e35-04cbbb17fcf4",
   "metadata": {
    "id": "34b9b9f5-df03-4391-9e35-04cbbb17fcf4"
   },
   "outputs": [
    {
     "name": "stdout",
     "output_type": "stream",
     "text": [
      "If we shadows have offended,\n",
      "Think but this, and all is mended,\n",
      "That you have but slumbered here\n",
      "While these visions did appear.\n"
     ]
    }
   ],
   "source": [
    "# Single line comment\n",
    "\n",
    "# If we shadows have offended,\n",
    "# Think but this, and all is mended,\n",
    "# That you have but slumbered here\n",
    "# While these visions did appear.\n",
    "\n",
    "print(\"If we shadows have offended,\")\n",
    "print(\"Think but this, and all is mended,\")\n",
    "print(\"That you have but slumbered here\")\n",
    "print(\"While these visions did appear.\")"
   ]
  },
  {
   "cell_type": "code",
   "execution_count": 2,
   "id": "eacb0ebd-b506-4766-a779-e7225c18181a",
   "metadata": {
    "id": "eacb0ebd-b506-4766-a779-e7225c18181a"
   },
   "outputs": [
    {
     "name": "stdout",
     "output_type": "stream",
     "text": [
      "Example of Multiline comment\n"
     ]
    }
   ],
   "source": [
    "#multiline comment\n",
    "\n",
    "\n",
    "\"\"\"\n",
    "Multiline comment\n",
    "Cowards die many times before their deaths,\n",
    "The valiant never taste of death but once.\n",
    "\"\"\"\n",
    "print(\"Example of Multiline comment\")"
   ]
  },
  {
   "cell_type": "code",
   "execution_count": 3,
   "id": "87b631ae-f327-4a38-9930-b1c10a38309d",
   "metadata": {
    "id": "87b631ae-f327-4a38-9930-b1c10a38309d"
   },
   "outputs": [
    {
     "name": "stdin",
     "output_type": "stream",
     "text": [
      "What day is it today? apple\n"
     ]
    },
    {
     "data": {
      "text/plain": [
       "'apple'"
      ]
     },
     "execution_count": 3,
     "metadata": {},
     "output_type": "execute_result"
    }
   ],
   "source": [
    "input(\"What day is it today?\")"
   ]
  },
  {
   "cell_type": "code",
   "execution_count": 4,
   "id": "3d72215d-bc99-46c3-ac22-2e833b31aa1c",
   "metadata": {
    "id": "3d72215d-bc99-46c3-ac22-2e833b31aa1c"
   },
   "outputs": [
    {
     "name": "stdin",
     "output_type": "stream",
     "text": [
      "What day is it today? apple\n"
     ]
    },
    {
     "name": "stdout",
     "output_type": "stream",
     "text": [
      "Today is  apple\n"
     ]
    }
   ],
   "source": [
    "#input keyword\n",
    "\n",
    "print(\"Today is \",input(\"What day is it today?\"))"
   ]
  },
  {
   "cell_type": "code",
   "execution_count": 5,
   "id": "25e6b233-2d32-41e3-ae37-028823041854",
   "metadata": {
    "id": "25e6b233-2d32-41e3-ae37-028823041854"
   },
   "outputs": [
    {
     "data": {
      "text/plain": [
       "279"
      ]
     },
     "execution_count": 5,
     "metadata": {},
     "output_type": "execute_result"
    }
   ],
   "source": [
    "#Python as a calculator\n",
    "\n",
    "\n",
    "#Addition\n",
    "\n",
    "222+57\n",
    "\n"
   ]
  },
  {
   "cell_type": "code",
   "execution_count": 6,
   "id": "41a11417-8c5f-4c7d-8751-5224087d671e",
   "metadata": {
    "id": "41a11417-8c5f-4c7d-8751-5224087d671e"
   },
   "outputs": [
    {
     "data": {
      "text/plain": [
       "165"
      ]
     },
     "execution_count": 6,
     "metadata": {},
     "output_type": "execute_result"
    }
   ],
   "source": [
    "#Subtraction\n",
    "\n",
    "222 -57"
   ]
  },
  {
   "cell_type": "code",
   "execution_count": 7,
   "id": "686df494-0829-497a-b40a-a380e0ccd790",
   "metadata": {
    "id": "686df494-0829-497a-b40a-a380e0ccd790"
   },
   "outputs": [
    {
     "data": {
      "text/plain": [
       "12876"
      ]
     },
     "execution_count": 7,
     "metadata": {},
     "output_type": "execute_result"
    }
   ],
   "source": [
    "# Multiplication\n",
    "\n",
    "222*58\n"
   ]
  },
  {
   "cell_type": "code",
   "execution_count": 8,
   "id": "8fbd2a2a-3625-497b-9fea-a3b0520cce60",
   "metadata": {
    "id": "8fbd2a2a-3625-497b-9fea-a3b0520cce60"
   },
   "outputs": [
    {
     "data": {
      "text/plain": [
       "3.8947368421052633"
      ]
     },
     "execution_count": 8,
     "metadata": {},
     "output_type": "execute_result"
    }
   ],
   "source": [
    "# Division\n",
    "\n",
    "222/57"
   ]
  },
  {
   "cell_type": "code",
   "execution_count": 9,
   "id": "6fb92877-771c-452e-8734-269f648fd5b3",
   "metadata": {
    "id": "6fb92877-771c-452e-8734-269f648fd5b3"
   },
   "outputs": [
    {
     "data": {
      "text/plain": [
       "9.9"
      ]
     },
     "execution_count": 9,
     "metadata": {},
     "output_type": "execute_result"
    }
   ],
   "source": [
    "#Division\n",
    "\n",
    "99/10"
   ]
  },
  {
   "cell_type": "code",
   "execution_count": 10,
   "id": "d45b8866-22c7-4f14-be22-3a5a17dcc248",
   "metadata": {
    "id": "d45b8866-22c7-4f14-be22-3a5a17dcc248"
   },
   "outputs": [
    {
     "data": {
      "text/plain": [
       "3.76271186440678"
      ]
     },
     "execution_count": 10,
     "metadata": {},
     "output_type": "execute_result"
    }
   ],
   "source": [
    "#Python as a calculator altogether\n",
    "\n",
    "\n",
    "#Addition\n",
    "\n",
    "222+56\n",
    "\n",
    "#Subtraction\n",
    "\n",
    "222 -56\n",
    "\n",
    "# Multiplication\n",
    "\n",
    "222*56\n",
    "\n",
    "# Division\n",
    "\n",
    "222/59"
   ]
  },
  {
   "cell_type": "code",
   "execution_count": 2,
   "id": "ffd96fb6-d0ef-47b9-b53f-08bec0789cbd",
   "metadata": {
    "id": "ffd96fb6-d0ef-47b9-b53f-08bec0789cbd"
   },
   "outputs": [
    {
     "name": "stdout",
     "output_type": "stream",
     "text": [
      "Hello World!\n"
     ]
    }
   ],
   "source": [
    "# Print command\n",
    "\n",
    "print(\"Hello World!\")\n"
   ]
  },
  {
   "cell_type": "code",
   "execution_count": 12,
   "id": "889552af-6068-414f-8c8f-8d13ee2a68f6",
   "metadata": {
    "id": "889552af-6068-414f-8c8f-8d13ee2a68f6"
   },
   "outputs": [
    {
     "name": "stdout",
     "output_type": "stream",
     "text": [
      "278\n",
      "166\n",
      "12432\n",
      "3.9642857142857144\n"
     ]
    }
   ],
   "source": [
    "#Python as a calculator\n",
    "\n",
    "\n",
    "#Addition\n",
    "\n",
    "print(222+56)\n",
    "\n",
    "#Subtraction\n",
    "\n",
    "print(222 -56)\n",
    "\n",
    "# Multiplication\n",
    "\n",
    "print(222*56)\n",
    "\n",
    "# Division\n",
    "\n",
    "print(222/56)"
   ]
  },
  {
   "cell_type": "markdown",
   "id": "67e26898-c668-423b-9df2-32b87bb1401c",
   "metadata": {
    "id": "67e26898-c668-423b-9df2-32b87bb1401c"
   },
   "source": [
    "# Variables"
   ]
  },
  {
   "cell_type": "code",
   "execution_count": 15,
   "id": "21a0b70e-2386-4217-8e24-d8b47404eddc",
   "metadata": {
    "id": "21a0b70e-2386-4217-8e24-d8b47404eddc"
   },
   "outputs": [
    {
     "name": "stdout",
     "output_type": "stream",
     "text": [
      "height is 1.62 weight is 65.5\n"
     ]
    }
   ],
   "source": [
    "# Vitals\n",
    "\n",
    "height = 1.62\n",
    "weight = 65.5 # case sensitive\n",
    "\n",
    "height\n",
    "weight\n",
    "print(\"height is\",height,\"weight is\",weight)"
   ]
  },
  {
   "cell_type": "code",
   "execution_count": 18,
   "id": "de153584-78e0-43cd-9e8e-efdca85d568c",
   "metadata": {
    "id": "de153584-78e0-43cd-9e8e-efdca85d568c"
   },
   "outputs": [
    {
     "name": "stdout",
     "output_type": "stream",
     "text": [
      "24.95808565767413\n"
     ]
    }
   ],
   "source": [
    "# Calculate BMI\n",
    "\n",
    "#bmi = weight/Height*Height\n",
    "\n",
    "bmi = weight/height**2\n",
    "\n",
    "print(bmi)"
   ]
  },
  {
   "cell_type": "code",
   "execution_count": 19,
   "id": "8eb64d01-d965-4785-abee-2958cf64e745",
   "metadata": {
    "id": "8eb64d01-d965-4785-abee-2958cf64e745"
   },
   "outputs": [
    {
     "name": "stdin",
     "output_type": "stream",
     "text": [
      "Enter your first name: pp\n",
      "Enter your last name: kk\n"
     ]
    },
    {
     "name": "stdout",
     "output_type": "stream",
     "text": [
      "pp kk\n"
     ]
    }
   ],
   "source": [
    "#user inputs\n",
    "\n",
    "firstname = input(\"Enter your first name:\")\n",
    "lastname = input(\"Enter your last name:\")\n",
    "full_name = firstname +\" \" +lastname\n",
    "print(full_name)"
   ]
  },
  {
   "cell_type": "code",
   "execution_count": 21,
   "id": "7a85a0e1-c751-4f12-8276-e0b2c94f20cc",
   "metadata": {
    "id": "7a85a0e1-c751-4f12-8276-e0b2c94f20cc"
   },
   "outputs": [
    {
     "name": "stdin",
     "output_type": "stream",
     "text": [
      "Enter your year of  birth: 1999\n",
      "What is the current year?  2024\n"
     ]
    },
    {
     "name": "stdout",
     "output_type": "stream",
     "text": [
      "Your age is  25\n"
     ]
    }
   ],
   "source": [
    "#user input - subtraction\n",
    "\n",
    "year_of_birth = input(\"Enter your year of  birth:\")\n",
    "current_year = input(\"What is the current year? \")\n",
    "Age = int(current_year) - int(year_of_birth) #input always stores data as string by default\n",
    "# Age = current_year - year_of_birth\n",
    "print(\"Your age is \", Age)\n"
   ]
  },
  {
   "cell_type": "code",
   "execution_count": 22,
   "id": "e40f810f-ecf7-421e-8b44-6afe7faaf6ee",
   "metadata": {
    "id": "e40f810f-ecf7-421e-8b44-6afe7faaf6ee"
   },
   "outputs": [
    {
     "name": "stdout",
     "output_type": "stream",
     "text": [
      "Anjali\n",
      "22\n",
      "8888884564\n"
     ]
    }
   ],
   "source": [
    "#unpacking Assigning multiple variables with values together\n",
    "\n",
    "name,age,phonenumber = \"Anjali\",22,8888884564\n",
    "print(name)\n",
    "print(age)\n",
    "print(phonenumber)"
   ]
  },
  {
   "cell_type": "markdown",
   "id": "4a4b1f01-ccde-418f-8757-d9c8bee355d0",
   "metadata": {
    "id": "4a4b1f01-ccde-418f-8757-d9c8bee355d0"
   },
   "source": [
    "# Data Types"
   ]
  },
  {
   "cell_type": "code",
   "execution_count": 23,
   "id": "378ced03-8a5c-45e9-83d7-3d618fbe7678",
   "metadata": {
    "id": "378ced03-8a5c-45e9-83d7-3d618fbe7678"
   },
   "outputs": [
    {
     "data": {
      "text/plain": [
       "float"
      ]
     },
     "execution_count": 23,
     "metadata": {},
     "output_type": "execute_result"
    }
   ],
   "source": [
    "type(bmi)"
   ]
  },
  {
   "cell_type": "code",
   "execution_count": 24,
   "id": "97f7f62e-fea9-4d16-8b9f-ee382ee1166d",
   "metadata": {
    "id": "97f7f62e-fea9-4d16-8b9f-ee382ee1166d"
   },
   "outputs": [
    {
     "data": {
      "text/plain": [
       "float"
      ]
     },
     "execution_count": 24,
     "metadata": {},
     "output_type": "execute_result"
    }
   ],
   "source": [
    "#Float example\n",
    "\n",
    "float1 = 22/7\n",
    "\n",
    "type(float1)"
   ]
  },
  {
   "cell_type": "code",
   "execution_count": 25,
   "id": "85633af8-dff7-40b4-83b1-f11e374b64d6",
   "metadata": {
    "id": "85633af8-dff7-40b4-83b1-f11e374b64d6"
   },
   "outputs": [
    {
     "data": {
      "text/plain": [
       "int"
      ]
     },
     "execution_count": 25,
     "metadata": {},
     "output_type": "execute_result"
    }
   ],
   "source": [
    "#Integer Example\n",
    "\n",
    "a = - 5000008\n",
    "type(a)"
   ]
  },
  {
   "cell_type": "code",
   "execution_count": 26,
   "id": "40557ca2-b881-4071-9af7-6de8ad514b21",
   "metadata": {
    "id": "40557ca2-b881-4071-9af7-6de8ad514b21"
   },
   "outputs": [
    {
     "data": {
      "text/plain": [
       "complex"
      ]
     },
     "execution_count": 26,
     "metadata": {},
     "output_type": "execute_result"
    }
   ],
   "source": [
    "#complex Example\n",
    "\n",
    "b = 3 + 3j\n",
    "type(b)"
   ]
  },
  {
   "cell_type": "code",
   "execution_count": 27,
   "id": "e6a40791-96f8-420f-be6a-5ddee2ce9892",
   "metadata": {
    "id": "e6a40791-96f8-420f-be6a-5ddee2ce9892"
   },
   "outputs": [
    {
     "data": {
      "text/plain": [
       "list"
      ]
     },
     "execution_count": 27,
     "metadata": {},
     "output_type": "execute_result"
    }
   ],
   "source": [
    "#List Exampleit can be any type\n",
    "\n",
    "list1 = [1,3.0,\"give\",1]\n",
    "type(list1)\n"
   ]
  },
  {
   "cell_type": "code",
   "execution_count": 28,
   "id": "d5a8e755-caca-4213-85f3-2e68ee8bde5b",
   "metadata": {
    "id": "d5a8e755-caca-4213-85f3-2e68ee8bde5b"
   },
   "outputs": [
    {
     "data": {
      "text/plain": [
       "tuple"
      ]
     },
     "execution_count": 28,
     "metadata": {},
     "output_type": "execute_result"
    }
   ],
   "source": [
    "#Tuple Example\n",
    "\n",
    "tuple1 = (1,3,\"give\")\n",
    "type(tuple1)\n"
   ]
  },
  {
   "cell_type": "code",
   "execution_count": 29,
   "id": "c876a8ac-8de9-48cf-ada3-66471998447d",
   "metadata": {
    "id": "c876a8ac-8de9-48cf-ada3-66471998447d"
   },
   "outputs": [
    {
     "data": {
      "text/plain": [
       "str"
      ]
     },
     "execution_count": 29,
     "metadata": {},
     "output_type": "execute_result"
    }
   ],
   "source": [
    "# string example\n",
    "\n",
    "string1 = \"This is a sentence with more than 1 characters.\"\n",
    "type(string1)"
   ]
  },
  {
   "cell_type": "code",
   "execution_count": 30,
   "id": "e80de7d8-8531-4b27-8505-e1cccea9d2cc",
   "metadata": {
    "id": "e80de7d8-8531-4b27-8505-e1cccea9d2cc"
   },
   "outputs": [
    {
     "data": {
      "text/plain": [
       "bool"
      ]
     },
     "execution_count": 30,
     "metadata": {},
     "output_type": "execute_result"
    }
   ],
   "source": [
    "#Boolean example\n",
    "\n",
    "bool1 = False\n",
    "type(bool1)"
   ]
  },
  {
   "cell_type": "code",
   "execution_count": 31,
   "id": "384cbf3e-5111-4443-876d-eab7c704a551",
   "metadata": {
    "id": "384cbf3e-5111-4443-876d-eab7c704a551"
   },
   "outputs": [
    {
     "data": {
      "text/plain": [
       "set"
      ]
     },
     "execution_count": 31,
     "metadata": {},
     "output_type": "execute_result"
    }
   ],
   "source": [
    "# Set example\n",
    "\n",
    "colors = { \"Yellow\",\"Orange\", \"Purple\", \"Blue\"}\n",
    "type(colors)"
   ]
  },
  {
   "cell_type": "code",
   "execution_count": 32,
   "id": "8f3941f1-b035-41c6-b05f-0a8ae9e46ee5",
   "metadata": {
    "id": "8f3941f1-b035-41c6-b05f-0a8ae9e46ee5"
   },
   "outputs": [
    {
     "data": {
      "text/plain": [
       "dict"
      ]
     },
     "execution_count": 32,
     "metadata": {},
     "output_type": "execute_result"
    }
   ],
   "source": [
    "# Dictionary Example\n",
    "\n",
    "myempl = {\n",
    "\"name\" : \"Jane Jeffers\",\n",
    " \"Age\": 30,\n",
    " \"Designation\": \"Data Analyst - Level 1\",\n",
    " \"Status\": \"Active\"\n",
    "\n",
    "}\n",
    "\n",
    "type(myempl)"
   ]
  },
  {
   "cell_type": "markdown",
   "id": "8c64ce10-fe66-4f75-97d6-12fea07c84b2",
   "metadata": {
    "id": "8c64ce10-fe66-4f75-97d6-12fea07c84b2"
   },
   "source": [
    "# Operators"
   ]
  },
  {
   "cell_type": "code",
   "execution_count": 33,
   "id": "6d38cc03-d17d-4947-b0a5-c9c1d3a55a4f",
   "metadata": {
    "id": "6d38cc03-d17d-4947-b0a5-c9c1d3a55a4f"
   },
   "outputs": [
    {
     "data": {
      "text/plain": [
       "1"
      ]
     },
     "execution_count": 33,
     "metadata": {},
     "output_type": "execute_result"
    }
   ],
   "source": [
    "# Arithmetic Operators - Modulus\n",
    "\n",
    "x = 55 # Dividend\n",
    "y = 6 # Divisor\n",
    "x%y # Remainder\n",
    "# x//y # Quotient"
   ]
  },
  {
   "cell_type": "code",
   "execution_count": 34,
   "id": "efb5605c-606a-4e0e-a9a9-3a547b84f854",
   "metadata": {
    "id": "efb5605c-606a-4e0e-a9a9-3a547b84f854"
   },
   "outputs": [
    {
     "data": {
      "text/plain": [
       "8"
      ]
     },
     "execution_count": 34,
     "metadata": {},
     "output_type": "execute_result"
    }
   ],
   "source": [
    "# Arithmetic Operators - Exponentiation\n",
    "\n",
    "y=3\n",
    "2**y"
   ]
  },
  {
   "cell_type": "code",
   "execution_count": 35,
   "id": "745aa842-a7db-49c2-92f1-68d7d460f15e",
   "metadata": {
    "id": "745aa842-a7db-49c2-92f1-68d7d460f15e"
   },
   "outputs": [
    {
     "name": "stdout",
     "output_type": "stream",
     "text": [
      "13\n"
     ]
    }
   ],
   "source": [
    "# Assignment Operators  += plus\n",
    "\n",
    "x=10\n",
    "x += 3 # x = x+3\n",
    "print(x)"
   ]
  },
  {
   "cell_type": "code",
   "execution_count": 36,
   "id": "500eed66-f487-44f3-a4d2-bc53fd397941",
   "metadata": {
    "id": "500eed66-f487-44f3-a4d2-bc53fd397941"
   },
   "outputs": [
    {
     "name": "stdout",
     "output_type": "stream",
     "text": [
      "8\n"
     ]
    }
   ],
   "source": [
    "# Assignment Operators  **= exponential\n",
    "\n",
    "x=2\n",
    "x **= 3\n",
    "print(x)"
   ]
  },
  {
   "cell_type": "code",
   "execution_count": 37,
   "id": "177277d0-28d5-4d5b-b3df-e95d06c47619",
   "metadata": {
    "id": "177277d0-28d5-4d5b-b3df-e95d06c47619"
   },
   "outputs": [
    {
     "name": "stdout",
     "output_type": "stream",
     "text": [
      "True\n"
     ]
    }
   ],
   "source": [
    "#Relational operators - answers in boolean == is equal to\n",
    "\n",
    "x = 6\n",
    "y = 6\n",
    "print(x==y)"
   ]
  },
  {
   "cell_type": "code",
   "execution_count": 38,
   "id": "00713e02-043d-443b-a961-93bd2fbdbc5b",
   "metadata": {
    "id": "00713e02-043d-443b-a961-93bd2fbdbc5b"
   },
   "outputs": [
    {
     "name": "stdout",
     "output_type": "stream",
     "text": [
      "False\n"
     ]
    }
   ],
   "source": [
    "#Relational operators - answers in boolean != is not equal to\n",
    "\n",
    "x = 6\n",
    "y = 6\n",
    "print(x!=y)"
   ]
  },
  {
   "cell_type": "code",
   "execution_count": 39,
   "id": "700b48f8-f93a-41a0-b6de-19c761566465",
   "metadata": {
    "id": "700b48f8-f93a-41a0-b6de-19c761566465"
   },
   "outputs": [
    {
     "data": {
      "text/plain": [
       "False"
      ]
     },
     "execution_count": 39,
     "metadata": {},
     "output_type": "execute_result"
    }
   ],
   "source": [
    "#Logical Operator - and &\n",
    "\n",
    "x = 7\n",
    "y = 8\n",
    "x > 5 and y>10  # is x greater than 5 AND y greater than 10"
   ]
  },
  {
   "cell_type": "code",
   "execution_count": 40,
   "id": "50a1e138-36d2-4676-9eeb-978d571b4209",
   "metadata": {
    "id": "50a1e138-36d2-4676-9eeb-978d571b4209"
   },
   "outputs": [
    {
     "data": {
      "text/plain": [
       "True"
      ]
     },
     "execution_count": 40,
     "metadata": {},
     "output_type": "execute_result"
    }
   ],
   "source": [
    "#Logical Operator - or\n",
    "\n",
    "x = 7\n",
    "y = 8\n",
    "x>5 or y>10  # is x greater than 5 AND y greater than 10"
   ]
  },
  {
   "cell_type": "code",
   "execution_count": 41,
   "id": "7a2e39ad-0d2a-4ef0-a793-71c2125cc2e4",
   "metadata": {
    "id": "7a2e39ad-0d2a-4ef0-a793-71c2125cc2e4"
   },
   "outputs": [
    {
     "data": {
      "text/plain": [
       "True"
      ]
     },
     "execution_count": 41,
     "metadata": {},
     "output_type": "execute_result"
    }
   ],
   "source": [
    "#logical Operator - not\n",
    "\n",
    "x = 10\n",
    "\n",
    "not(x<9)"
   ]
  },
  {
   "cell_type": "code",
   "execution_count": 42,
   "id": "5b7d9d06-5725-44f5-b27d-8ab461b82510",
   "metadata": {
    "id": "5b7d9d06-5725-44f5-b27d-8ab461b82510"
   },
   "outputs": [
    {
     "data": {
      "text/plain": [
       "True"
      ]
     },
     "execution_count": 42,
     "metadata": {},
     "output_type": "execute_result"
    }
   ],
   "source": [
    "# Membership Operator - in\n",
    "\n",
    "List1 = [1,2,3,4,5]\n",
    "x = 5\n",
    "x in List1\n"
   ]
  },
  {
   "cell_type": "code",
   "execution_count": 43,
   "id": "031e3d85-bc69-47fc-bc45-ca6c66062045",
   "metadata": {
    "id": "031e3d85-bc69-47fc-bc45-ca6c66062045"
   },
   "outputs": [
    {
     "data": {
      "text/plain": [
       "False"
      ]
     },
     "execution_count": 43,
     "metadata": {},
     "output_type": "execute_result"
    }
   ],
   "source": [
    "# Membership Operator - not in\n",
    "\n",
    "List1 = [1,2,3,4,5]\n",
    "x = 5\n",
    "x not in List1"
   ]
  },
  {
   "cell_type": "code",
   "execution_count": 44,
   "id": "d1fee231-e6dd-46eb-9add-10f70f8c52c8",
   "metadata": {
    "id": "d1fee231-e6dd-46eb-9add-10f70f8c52c8"
   },
   "outputs": [
    {
     "data": {
      "text/plain": [
       "True"
      ]
     },
     "execution_count": 44,
     "metadata": {},
     "output_type": "execute_result"
    }
   ],
   "source": [
    "# Identity Operator - is\n",
    "x = 8\n",
    "y = 8\n",
    "\n",
    "x is y\n",
    "\n"
   ]
  },
  {
   "cell_type": "code",
   "execution_count": 45,
   "id": "9d7f21d1-53e7-4dc0-9bea-3ba83f9e0768",
   "metadata": {
    "id": "9d7f21d1-53e7-4dc0-9bea-3ba83f9e0768"
   },
   "outputs": [
    {
     "data": {
      "text/plain": [
       "True"
      ]
     },
     "execution_count": 45,
     "metadata": {},
     "output_type": "execute_result"
    }
   ],
   "source": [
    "# Identity Operator - is not\n",
    "\n",
    "x = 8\n",
    "y = 10\n",
    "\n",
    "x is not y\n"
   ]
  },
  {
   "cell_type": "markdown",
   "id": "67fdd23e-0dcb-41e6-a79e-066242b0cf8e",
   "metadata": {
    "id": "67fdd23e-0dcb-41e6-a79e-066242b0cf8e"
   },
   "source": [
    "# Lists"
   ]
  },
  {
   "cell_type": "code",
   "execution_count": 46,
   "id": "373ab7a3-a249-4bf7-8fe9-2fdc8db51a43",
   "metadata": {
    "id": "373ab7a3-a249-4bf7-8fe9-2fdc8db51a43"
   },
   "outputs": [
    {
     "data": {
      "text/plain": [
       "list"
      ]
     },
     "execution_count": 46,
     "metadata": {},
     "output_type": "execute_result"
    }
   ],
   "source": [
    "# Empty List\n",
    "\n",
    "empty_list = []\n",
    "type(empty_list)\n"
   ]
  },
  {
   "cell_type": "code",
   "execution_count": 50,
   "id": "56cf5d63-465a-4f64-9700-2d1edd1a4ad4",
   "metadata": {
    "id": "56cf5d63-465a-4f64-9700-2d1edd1a4ad4"
   },
   "outputs": [],
   "source": [
    "# Examples of a List\n",
    "# just assigning not displaying \n",
    "Names = [\"Priti\", \"Asha\", \"Nirali\"]\n",
    "Ages = [25,16,31]"
   ]
  },
  {
   "cell_type": "code",
   "execution_count": 51,
   "id": "c0f4af70-9ea7-46a3-9c31-b382503933e3",
   "metadata": {
    "id": "c0f4af70-9ea7-46a3-9c31-b382503933e3"
   },
   "outputs": [
    {
     "data": {
      "text/plain": [
       "['Priti', 'Asha', 'Nirali', 'Kirti']"
      ]
     },
     "execution_count": 51,
     "metadata": {},
     "output_type": "execute_result"
    }
   ],
   "source": [
    "# Growing a list using append method.\n",
    "\n",
    "Names.append(\"Kirti\")\n",
    "Names"
   ]
  },
  {
   "cell_type": "code",
   "execution_count": 52,
   "id": "6d850a3e-45ad-4040-95a9-7bceac98cac3",
   "metadata": {
    "id": "6d850a3e-45ad-4040-95a9-7bceac98cac3"
   },
   "outputs": [
    {
     "data": {
      "text/plain": [
       "['Priti', 'Asha', 'Nirali']"
      ]
     },
     "execution_count": 52,
     "metadata": {},
     "output_type": "execute_result"
    }
   ],
   "source": [
    "# Truncating a list using pop method.\n",
    "\n",
    "Names.pop() # without index that defaults to the last element\n",
    "Names"
   ]
  },
  {
   "cell_type": "code",
   "execution_count": 53,
   "id": "b06d7b17-e714-4db7-856a-427a2ab8e34d",
   "metadata": {
    "id": "b06d7b17-e714-4db7-856a-427a2ab8e34d"
   },
   "outputs": [
    {
     "data": {
      "text/plain": [
       "[25, 31]"
      ]
     },
     "execution_count": 53,
     "metadata": {},
     "output_type": "execute_result"
    }
   ],
   "source": [
    "# Truncating a list using pop method and index\n",
    "\n",
    "Ages.pop(1)\n",
    "Ages\n"
   ]
  },
  {
   "cell_type": "code",
   "execution_count": 54,
   "id": "29ce3944-5c16-4774-8620-7dd77f63457a",
   "metadata": {
    "id": "29ce3944-5c16-4774-8620-7dd77f63457a"
   },
   "outputs": [
    {
     "data": {
      "text/plain": [
       "[25, 31, 56, 96]"
      ]
     },
     "execution_count": 54,
     "metadata": {},
     "output_type": "execute_result"
    }
   ],
   "source": [
    "#Growing a list using plus - 2\n",
    "\n",
    "Total_ages = Ages + [56,96]\n",
    "Total_ages"
   ]
  },
  {
   "cell_type": "code",
   "execution_count": 56,
   "id": "49a8c3d9-feb0-4e6e-a837-b09d6ad31c46",
   "metadata": {
    "id": "49a8c3d9-feb0-4e6e-a837-b09d6ad31c46"
   },
   "outputs": [
    {
     "name": "stdout",
     "output_type": "stream",
     "text": [
      "[25, 31, 77, 90]\n",
      "[25, 31, 77, 90, 77, 90]\n"
     ]
    }
   ],
   "source": [
    "#Growing a list using plus\n",
    "\n",
    "print(Ages)\n",
    "Ages += [77,90] #Ages = Ages + [77,90]\n",
    "print(Ages)"
   ]
  },
  {
   "cell_type": "code",
   "execution_count": 57,
   "id": "613ccfa9-3d7e-40f8-af30-05642d101195",
   "metadata": {
    "id": "613ccfa9-3d7e-40f8-af30-05642d101195"
   },
   "outputs": [
    {
     "data": {
      "text/plain": [
       "'Priti'"
      ]
     },
     "execution_count": 57,
     "metadata": {},
     "output_type": "execute_result"
    }
   ],
   "source": [
    "# Accessing a list based on index\n",
    "\n",
    "Names[0]"
   ]
  },
  {
   "cell_type": "code",
   "execution_count": 58,
   "id": "3cffc677-fd64-4c0c-bcd5-567b70f35b26",
   "metadata": {
    "id": "3cffc677-fd64-4c0c-bcd5-567b70f35b26"
   },
   "outputs": [
    {
     "name": "stdout",
     "output_type": "stream",
     "text": [
      "['Priti', 'Asha', 'Nirali']\n",
      "Nirali\n"
     ]
    }
   ],
   "source": [
    "# Accessing a list based on negative index\n",
    "print(Names)\n",
    "print(Names[-1])"
   ]
  },
  {
   "cell_type": "code",
   "execution_count": 59,
   "id": "a4e716b2-30a4-4bff-b2a4-7cf9daa64479",
   "metadata": {
    "id": "a4e716b2-30a4-4bff-b2a4-7cf9daa64479"
   },
   "outputs": [
    {
     "data": {
      "text/plain": [
       "3"
      ]
     },
     "execution_count": 59,
     "metadata": {},
     "output_type": "execute_result"
    }
   ],
   "source": [
    "#method len\n",
    "\n",
    "len(Names)"
   ]
  },
  {
   "cell_type": "code",
   "execution_count": 60,
   "id": "859a084e-e33a-4e51-835b-c08555d74741",
   "metadata": {
    "id": "859a084e-e33a-4e51-835b-c08555d74741"
   },
   "outputs": [
    {
     "name": "stdout",
     "output_type": "stream",
     "text": [
      "['Priti', 'Asha', 'Nirali', 'Shabnam', 'Neeti', 'Sharmila']\n",
      "['Shabnam', 'Neeti']\n"
     ]
    }
   ],
   "source": [
    "#slicing list\n",
    "Names.append(\"Shabnam\")\n",
    "Names.append(\"Neeti\")\n",
    "Names.append(\"Sharmila\")\n",
    "print(Names)\n",
    "print(Names[3:5])"
   ]
  },
  {
   "cell_type": "code",
   "execution_count": 61,
   "id": "bed4dbe3-602b-4a70-b46f-ce25d561a202",
   "metadata": {
    "id": "bed4dbe3-602b-4a70-b46f-ce25d561a202"
   },
   "outputs": [
    {
     "data": {
      "text/plain": [
       "['Priti', 'Asha']"
      ]
     },
     "execution_count": 61,
     "metadata": {},
     "output_type": "execute_result"
    }
   ],
   "source": [
    "#Slicing till index\n",
    "\n",
    "Names[:2]"
   ]
  },
  {
   "cell_type": "code",
   "execution_count": 62,
   "id": "8c60b019-92d3-4e70-82cd-bb9b4fb8cad0",
   "metadata": {
    "id": "8c60b019-92d3-4e70-82cd-bb9b4fb8cad0"
   },
   "outputs": [
    {
     "name": "stdout",
     "output_type": "stream",
     "text": [
      "['Priti', 'Asha', 'Nirali', 'Shabnam', 'Neeti', 'Sharmila']\n",
      "['Priti', 'Asha', 'Nirali', 'Shabnam', 'Neeti']\n"
     ]
    }
   ],
   "source": [
    "# Using remove method to remove element based on element value\n",
    "\n",
    "print(Names)\n",
    "Names.remove(\"Sharmila\")\n",
    "print(Names)"
   ]
  },
  {
   "cell_type": "code",
   "execution_count": 65,
   "id": "c1b3e48b-7adb-4d7d-a0b0-db0ad88f7edd",
   "metadata": {
    "id": "c1b3e48b-7adb-4d7d-a0b0-db0ad88f7edd"
   },
   "outputs": [
    {
     "data": {
      "text/plain": [
       "3"
      ]
     },
     "execution_count": 65,
     "metadata": {},
     "output_type": "execute_result"
    }
   ],
   "source": [
    "# count method (it returns zero if the element is not there\n",
    "\n",
    "listnum = [12,54,23,55,98,65,35,88,55,12,74,58,55,1]\n",
    "\n",
    "listnum.count(55)"
   ]
  },
  {
   "cell_type": "code",
   "execution_count": 66,
   "id": "71c02140-f079-4602-83d1-4a8eb8c1409d",
   "metadata": {
    "id": "71c02140-f079-4602-83d1-4a8eb8c1409d"
   },
   "outputs": [
    {
     "name": "stdout",
     "output_type": "stream",
     "text": [
      "['Asha', 'Neeti', 'Nirali', 'Priti', 'Shabnam']\n",
      "['Priti', 'Asha', 'Nirali', 'Shabnam', 'Neeti']\n"
     ]
    }
   ],
   "source": [
    "#Sorting List using sorted() function\n",
    "\n",
    "print(sorted(Names))\n",
    "# print(sorted(Names,reverse=True))\n",
    "print(Names)"
   ]
  },
  {
   "cell_type": "code",
   "execution_count": 67,
   "id": "347973dc-5022-4f49-860a-b39f237ebf50",
   "metadata": {
    "id": "347973dc-5022-4f49-860a-b39f237ebf50"
   },
   "outputs": [
    {
     "data": {
      "text/plain": [
       "['Asha', 'Neeti', 'Nirali', 'Priti', 'Shabnam']"
      ]
     },
     "execution_count": 67,
     "metadata": {},
     "output_type": "execute_result"
    }
   ],
   "source": [
    "#sorting list using sort method\n",
    "\n",
    "Names.sort()\n",
    "# Names.sort(reverse = True)\n",
    "Names"
   ]
  },
  {
   "cell_type": "markdown",
   "id": "ea99f68d-c6fc-4cd3-bb74-09170ca27fc8",
   "metadata": {
    "id": "ea99f68d-c6fc-4cd3-bb74-09170ca27fc8"
   },
   "source": [
    "# Tuple & Sets"
   ]
  },
  {
   "cell_type": "code",
   "execution_count": 68,
   "id": "7945c32d-8ed6-4d2c-9189-325a82fca777",
   "metadata": {
    "id": "7945c32d-8ed6-4d2c-9189-325a82fca777"
   },
   "outputs": [
    {
     "name": "stdout",
     "output_type": "stream",
     "text": [
      "(55, 'Mary', False, 8.9)\n"
     ]
    },
    {
     "data": {
      "text/plain": [
       "tuple"
      ]
     },
     "execution_count": 68,
     "metadata": {},
     "output_type": "execute_result"
    }
   ],
   "source": [
    "#Multiple Variable assignment & Tuple creation by packing tuple accepts different datatypes\n",
    "\n",
    "pack = 55,\"Mary\", False,8.9\n",
    "print(pack)\n",
    "type(pack)"
   ]
  },
  {
   "cell_type": "code",
   "execution_count": 70,
   "id": "ab7d867c-26a0-4991-b500-7ed247f63737",
   "metadata": {
    "id": "ab7d867c-26a0-4991-b500-7ed247f63737"
   },
   "outputs": [
    {
     "data": {
      "text/plain": [
       "6"
      ]
     },
     "execution_count": 70,
     "metadata": {},
     "output_type": "execute_result"
    }
   ],
   "source": [
    "#length of tuple using len function\n",
    "\n",
    "cars =(\"Honda\",\"Nissan\",\"Toyota\",\"Ford\",\"Mazda\",\"Kia\")\n",
    "len(cars)\n",
    "# type(cars)"
   ]
  },
  {
   "cell_type": "code",
   "execution_count": 71,
   "id": "bfcfd2e5-9bc2-4a75-845b-c6fb2eb6a02f",
   "metadata": {
    "id": "bfcfd2e5-9bc2-4a75-845b-c6fb2eb6a02f"
   },
   "outputs": [
    {
     "data": {
      "text/plain": [
       "'Honda'"
      ]
     },
     "execution_count": 71,
     "metadata": {},
     "output_type": "execute_result"
    }
   ],
   "source": [
    "#Indexed Tuple\n",
    "cars[0]"
   ]
  },
  {
   "cell_type": "code",
   "execution_count": 74,
   "id": "285f2cdc-d52b-4f21-92b2-5c6bf32db412",
   "metadata": {
    "id": "285f2cdc-d52b-4f21-92b2-5c6bf32db412"
   },
   "outputs": [],
   "source": [
    "#Immutable Tuple\n",
    "#cars[0] = \"Hyundai\" "
   ]
  },
  {
   "cell_type": "code",
   "execution_count": 75,
   "id": "a1ec5e38-3dd7-4b5b-a79d-2f4f6b0c3ae5",
   "metadata": {
    "id": "a1ec5e38-3dd7-4b5b-a79d-2f4f6b0c3ae5"
   },
   "outputs": [
    {
     "data": {
      "text/plain": [
       "1"
      ]
     },
     "execution_count": 75,
     "metadata": {},
     "output_type": "execute_result"
    }
   ],
   "source": [
    "# index method\n",
    "\n",
    "hp = (433,525,846,1000,233,125)\n",
    "hp.index(525)"
   ]
  },
  {
   "cell_type": "code",
   "execution_count": 76,
   "id": "293f86f5-b6c4-48bf-b7cf-5f62de3b52af",
   "metadata": {
    "id": "293f86f5-b6c4-48bf-b7cf-5f62de3b52af"
   },
   "outputs": [
    {
     "data": {
      "text/plain": [
       "[125, 233, 433, 525, 846, 1000]"
      ]
     },
     "execution_count": 76,
     "metadata": {},
     "output_type": "execute_result"
    }
   ],
   "source": [
    "#function sorted\n",
    "\n",
    "sorted(hp)"
   ]
  },
  {
   "cell_type": "code",
   "execution_count": 77,
   "id": "d23fbc28-13c9-48bd-a2e0-dadbfafe9da7",
   "metadata": {
    "id": "d23fbc28-13c9-48bd-a2e0-dadbfafe9da7"
   },
   "outputs": [
    {
     "data": {
      "text/plain": [
       "1000"
      ]
     },
     "execution_count": 77,
     "metadata": {},
     "output_type": "execute_result"
    }
   ],
   "source": [
    "#function max\n",
    "\n",
    "max(hp)"
   ]
  },
  {
   "cell_type": "code",
   "execution_count": 78,
   "id": "ecbd5626-74dd-45c1-b754-e9e855d7699e",
   "metadata": {
    "id": "ecbd5626-74dd-45c1-b754-e9e855d7699e"
   },
   "outputs": [
    {
     "data": {
      "text/plain": [
       "3162"
      ]
     },
     "execution_count": 78,
     "metadata": {},
     "output_type": "execute_result"
    }
   ],
   "source": [
    "#function sum\n",
    "\n",
    "sum(hp)"
   ]
  },
  {
   "cell_type": "code",
   "execution_count": 79,
   "id": "55296afb-6298-4bc9-a14b-691ba557973a",
   "metadata": {
    "id": "55296afb-6298-4bc9-a14b-691ba557973a"
   },
   "outputs": [
    {
     "data": {
      "text/plain": [
       "set"
      ]
     },
     "execution_count": 79,
     "metadata": {},
     "output_type": "execute_result"
    }
   ],
   "source": [
    "#Create a set\n",
    "\n",
    "luxurycars =  {\"BMW\",\"Lexus\",\"Acura\",\"Mercedez-Benz\",\"Infiniti\", \"Tesla\",\"Audi\"}\n",
    "type(luxurycars)"
   ]
  },
  {
   "cell_type": "code",
   "execution_count": 80,
   "id": "fab1d323-7225-496e-9d97-2c523c097db9",
   "metadata": {
    "id": "fab1d323-7225-496e-9d97-2c523c097db9"
   },
   "outputs": [
    {
     "data": {
      "text/plain": [
       "7"
      ]
     },
     "execution_count": 80,
     "metadata": {},
     "output_type": "execute_result"
    }
   ],
   "source": [
    "# len function in a set\n",
    "\n",
    "len(luxurycars)"
   ]
  },
  {
   "cell_type": "code",
   "execution_count": 81,
   "id": "38aa774f-f8f3-409f-84c6-110d25a164e1",
   "metadata": {
    "id": "38aa774f-f8f3-409f-84c6-110d25a164e1"
   },
   "outputs": [
    {
     "data": {
      "text/plain": [
       "{'Acura', 'Audi', 'BMW', 'Infiniti', 'Lexus', 'Mercedez-Benz', 'Tesla'}"
      ]
     },
     "execution_count": 81,
     "metadata": {},
     "output_type": "execute_result"
    }
   ],
   "source": [
    "#Grow a set\n",
    "\n",
    "luxurycars.add(\"Tesla\")\n",
    "luxurycars"
   ]
  },
  {
   "cell_type": "code",
   "execution_count": 85,
   "id": "2efa8159-deb0-4883-b8d7-1ffea65f1e4a",
   "metadata": {
    "id": "2efa8159-deb0-4883-b8d7-1ffea65f1e4a"
   },
   "outputs": [
    {
     "name": "stdout",
     "output_type": "stream",
     "text": [
      "{'Acura', 'Audi', 'Mercedez-Benz', 'BMW', 'Lexus'}\n",
      "{'Audi', 'Mercedez-Benz', 'BMW', 'Lexus'}\n"
     ]
    }
   ],
   "source": [
    "#reduce a set from a random place\n",
    "\n",
    "print(luxurycars)\n",
    "luxurycars.pop()\n",
    "print(luxurycars)\n"
   ]
  },
  {
   "cell_type": "code",
   "execution_count": 86,
   "id": "a6bb50ab-e427-4937-86bf-7bc3ed3c871e",
   "metadata": {
    "id": "a6bb50ab-e427-4937-86bf-7bc3ed3c871e"
   },
   "outputs": [
    {
     "data": {
      "text/plain": [
       "{'Audi', 'BMW', 'Lexus', 'Mercedez-Benz'}"
      ]
     },
     "execution_count": 86,
     "metadata": {},
     "output_type": "execute_result"
    }
   ],
   "source": [
    "# copy method\n",
    "\n",
    "newluxcars = luxurycars.copy()\n",
    "newluxcars"
   ]
  },
  {
   "cell_type": "code",
   "execution_count": 87,
   "id": "5de90472-736c-437e-a9dd-aa358021a58d",
   "metadata": {
    "id": "5de90472-736c-437e-a9dd-aa358021a58d"
   },
   "outputs": [
    {
     "name": "stdout",
     "output_type": "stream",
     "text": [
      "{'Audi', 'Mercedez-Benz', 'BMW', 'Lexus'}\n",
      "{'Audi', 'Mercedez-Benz', 'Lexus'}\n"
     ]
    }
   ],
   "source": [
    "#remove method for set\n",
    "\n",
    "print(luxurycars)\n",
    "luxurycars.remove('BMW')\n",
    "print(luxurycars)"
   ]
  },
  {
   "cell_type": "code",
   "execution_count": 89,
   "id": "1fe47d74-3829-4075-97cd-b88d360dbc0f",
   "metadata": {
    "id": "1fe47d74-3829-4075-97cd-b88d360dbc0f"
   },
   "outputs": [
    {
     "name": "stdout",
     "output_type": "stream",
     "text": [
      "<class 'set'>\n"
     ]
    },
    {
     "data": {
      "text/plain": [
       "set"
      ]
     },
     "execution_count": 89,
     "metadata": {},
     "output_type": "execute_result"
    }
   ],
   "source": [
    "#Convert a tuple to set\n",
    "\n",
    "print(type(cars))\n",
    "cars = set(cars)\n",
    "type(cars)"
   ]
  },
  {
   "cell_type": "code",
   "execution_count": 90,
   "id": "7f78f481-62c2-41fe-abf6-c8de17c2ce9b",
   "metadata": {
    "id": "7f78f481-62c2-41fe-abf6-c8de17c2ce9b"
   },
   "outputs": [
    {
     "name": "stdout",
     "output_type": "stream",
     "text": [
      "{'Toyota', 'Nissan', 'Honda', 'Ford', 'Kia', 'Mazda'}\n",
      "{'Audi', 'Mercedez-Benz', 'Lexus'}\n",
      "{'Audi', 'Mercedez-Benz', 'Kia', 'Mazda', 'Toyota', 'Nissan', 'Honda', 'Ford', 'Lexus'}\n"
     ]
    }
   ],
   "source": [
    "#combine sets by union method\n",
    "\n",
    "print(cars)\n",
    "print(luxurycars)\n",
    "allcars = cars.union(luxurycars)\n",
    "print(allcars)\n",
    "\n",
    "# cars + luxurycars"
   ]
  },
  {
   "cell_type": "markdown",
   "id": "8380cdfa-f7b2-49c3-a735-5542fe3ccda9",
   "metadata": {
    "id": "8380cdfa-f7b2-49c3-a735-5542fe3ccda9"
   },
   "source": [
    "# Strings"
   ]
  },
  {
   "cell_type": "code",
   "execution_count": 91,
   "id": "07dc1a4d-60e4-4145-b0c7-d55fb018ea7e",
   "metadata": {
    "id": "07dc1a4d-60e4-4145-b0c7-d55fb018ea7e"
   },
   "outputs": [
    {
     "name": "stdout",
     "output_type": "stream",
     "text": [
      "<class 'str'>\n",
      "<class 'str'>\n"
     ]
    }
   ],
   "source": [
    "# Create strings\n",
    "\n",
    "fav_color = \"Turquoise\"\n",
    "fav_smell = str('JaSMIne')\n",
    "print(type(fav_color))\n",
    "print(type(fav_smell))"
   ]
  },
  {
   "cell_type": "code",
   "execution_count": 92,
   "id": "4b52d368-908a-4c48-b4f3-045a07fda060",
   "metadata": {
    "id": "4b52d368-908a-4c48-b4f3-045a07fda060"
   },
   "outputs": [
    {
     "name": "stdout",
     "output_type": "stream",
     "text": [
      "9\n",
      "7\n"
     ]
    }
   ],
   "source": [
    "# length a string\n",
    "\n",
    "print(len(fav_color))\n",
    "print(len(fav_smell))"
   ]
  },
  {
   "cell_type": "code",
   "execution_count": 93,
   "id": "271cb12a-4a95-4c3f-8e42-1c38b076c310",
   "metadata": {
    "id": "271cb12a-4a95-4c3f-8e42-1c38b076c310"
   },
   "outputs": [
    {
     "data": {
      "text/plain": [
       "'Turquo'"
      ]
     },
     "execution_count": 93,
     "metadata": {},
     "output_type": "execute_result"
    }
   ],
   "source": [
    "# Slicing a string\n",
    "length = len(fav_color)-3\n",
    "fav_color[:length]\n",
    "\n"
   ]
  },
  {
   "cell_type": "code",
   "execution_count": null,
   "id": "81494e10-1b60-4704-9c9f-46003077892c",
   "metadata": {
    "id": "81494e10-1b60-4704-9c9f-46003077892c"
   },
   "outputs": [],
   "source": [
    "# Accessing by indices just like a list\n",
    "\n",
    "fav_smell[3]"
   ]
  },
  {
   "cell_type": "code",
   "execution_count": 100,
   "id": "96b762d3-ec9f-477b-8a49-dadac7df1b5c",
   "metadata": {
    "id": "96b762d3-ec9f-477b-8a49-dadac7df1b5c"
   },
   "outputs": [
    {
     "data": {
      "text/plain": [
       "'He said \"Hands up!\"'"
      ]
     },
     "execution_count": 100,
     "metadata": {},
     "output_type": "execute_result"
    }
   ],
   "source": [
    "# How to incorporate quotes inside a string\n",
    "\n",
    "# mydialog = \"He said \"Hands up!\"\"\n",
    "mydialog = \"He said \\\"Hands up!\\\"\"\n",
    "mydialog"
   ]
  },
  {
   "cell_type": "code",
   "execution_count": 101,
   "id": "19de09c8-091b-499c-ac6f-36e2941e416a",
   "metadata": {
    "id": "19de09c8-091b-499c-ac6f-36e2941e416a"
   },
   "outputs": [
    {
     "name": "stdout",
     "output_type": "stream",
     "text": [
      "My favorite color is Turquoise\n",
      "My favorite smell is JaSMIne\n",
      "Turquoise,JaSMIne\n"
     ]
    }
   ],
   "source": [
    "# Concatenating strings\n",
    "\n",
    "print(\"My favorite color is \" + fav_color)\n",
    "print(\"My favorite smell is \" + fav_smell)\n",
    "faves = fav_color + \",\" + fav_smell\n",
    "print(faves)"
   ]
  },
  {
   "cell_type": "code",
   "execution_count": 102,
   "id": "4f9b3ae5-64bd-42e2-a33d-682066161974",
   "metadata": {
    "id": "4f9b3ae5-64bd-42e2-a33d-682066161974"
   },
   "outputs": [
    {
     "name": "stdout",
     "output_type": "stream",
     "text": [
      "TURQUOISE\n",
      "jasmine\n",
      "Favorite\n"
     ]
    }
   ],
   "source": [
    "# Formatting methods\n",
    "\n",
    "print(fav_color.upper())\n",
    "print(fav_smell.lower())\n",
    "print(\"favorite\".title())"
   ]
  },
  {
   "cell_type": "code",
   "execution_count": 103,
   "id": "cbe319c8-442c-4da4-91b6-18c966dea983",
   "metadata": {
    "id": "cbe319c8-442c-4da4-91b6-18c966dea983"
   },
   "outputs": [
    {
     "data": {
      "text/plain": [
       "['A long', ' long time ago ', ' I can still remember how ']"
      ]
     },
     "execution_count": 103,
     "metadata": {},
     "output_type": "execute_result"
    }
   ],
   "source": [
    "#Splitting a string using split method\n",
    "\n",
    "fave_song = \"A long, long time ago , I can still remember how \"\n",
    "fave_song.split(',')"
   ]
  },
  {
   "cell_type": "code",
   "execution_count": 104,
   "id": "f3a722bd-b854-4e0c-be5b-717007d1fd26",
   "metadata": {
    "id": "f3a722bd-b854-4e0c-be5b-717007d1fd26"
   },
   "outputs": [
    {
     "data": {
      "text/plain": [
       "2"
      ]
     },
     "execution_count": 104,
     "metadata": {},
     "output_type": "execute_result"
    }
   ],
   "source": [
    "# using find method\n",
    "\n",
    "fave_song.find(\"long\")"
   ]
  },
  {
   "cell_type": "code",
   "execution_count": 105,
   "id": "8c7926f3-497a-4a9e-a691-b563e84e66d1",
   "metadata": {
    "id": "8c7926f3-497a-4a9e-a691-b563e84e66d1"
   },
   "outputs": [
    {
     "data": {
      "text/plain": [
       "'My favorite song - A long, long time ago , I can still remember how  is sung by -  Don McLean'"
      ]
     },
     "execution_count": 105,
     "metadata": {},
     "output_type": "execute_result"
    }
   ],
   "source": [
    "# Using format method\n",
    "\n",
    "mysentence = \"My favorite song - {song} is sung by -  {artist}\".format(song=fave_song,artist=\"Don McLean\")\n",
    "mysentence\n"
   ]
  },
  {
   "cell_type": "code",
   "execution_count": 106,
   "id": "fd65377c-0719-459f-87cf-3e841ebbeb5d",
   "metadata": {
    "id": "fd65377c-0719-459f-87cf-3e841ebbeb5d"
   },
   "outputs": [
    {
     "name": "stdout",
     "output_type": "stream",
     "text": [
      "               Hands - On Machine Learning by Aurelion Geron           \n",
      "Hands - On Machine Learning by Aurelion Geron\n"
     ]
    }
   ],
   "source": [
    "#strip method\n",
    "\n",
    "book = \"               Hands - On Machine Learning by Aurelion Geron           \"\n",
    "print(book)\n",
    "print(book.strip())"
   ]
  },
  {
   "cell_type": "code",
   "execution_count": 107,
   "id": "7ffd3600-1db7-4571-a52c-a6d548dfb2e1",
   "metadata": {
    "id": "7ffd3600-1db7-4571-a52c-a6d548dfb2e1"
   },
   "outputs": [
    {
     "name": "stdout",
     "output_type": "stream",
     "text": [
      " On a dark dessert highway / Cool wind in my hair / Warm smell of colitas / Rising up through the air.\n",
      " On a dark desert highway / Cool wind in my hair / Warm smell of colitas / Rising up through the air.\n"
     ]
    }
   ],
   "source": [
    "#replace method\n",
    "\n",
    "mystring = \" On a dark dessert highway / Cool wind in my hair / Warm smell of colitas / Rising up through the air.\"\n",
    "print(mystring)\n",
    "print(mystring.replace('dessert','desert'))\n",
    "\n"
   ]
  },
  {
   "cell_type": "code",
   "execution_count": 108,
   "id": "8835d4d3-9bf9-46dc-b2df-29295f6513d9",
   "metadata": {
    "id": "8835d4d3-9bf9-46dc-b2df-29295f6513d9"
   },
   "outputs": [
    {
     "name": "stdout",
     "output_type": "stream",
     "text": [
      "esiouqruT\n",
      "noreG noileruA yb gninraeL enihcaM nO - sdnaH\n"
     ]
    }
   ],
   "source": [
    "#reverse string\n",
    "\n",
    "print(fav_color[::-1])\n",
    "print(book.strip()[::-1])"
   ]
  },
  {
   "cell_type": "code",
   "execution_count": null,
   "id": "7d74b5e5-b7f4-4655-b0b5-ebd0329265a4",
   "metadata": {
    "id": "7d74b5e5-b7f4-4655-b0b5-ebd0329265a4"
   },
   "outputs": [],
   "source": []
  }
 ],
 "metadata": {
  "colab": {
   "provenance": []
  },
  "kernelspec": {
   "display_name": "Python 3 (ipykernel)",
   "language": "python",
   "name": "python3"
  },
  "language_info": {
   "codemirror_mode": {
    "name": "ipython",
    "version": 3
   },
   "file_extension": ".py",
   "mimetype": "text/x-python",
   "name": "python",
   "nbconvert_exporter": "python",
   "pygments_lexer": "ipython3",
   "version": "3.11.7"
  }
 },
 "nbformat": 4,
 "nbformat_minor": 5
}
